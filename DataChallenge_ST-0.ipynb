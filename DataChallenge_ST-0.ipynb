{
 "cells": [
  {
   "cell_type": "markdown",
   "metadata": {
    "id": "NtZPVPMbSBVT"
   },
   "source": [
    "# 2025년도 빅데이터와 인공지능을 활용한 시스템 강건설계 데이터 챌린지!"
   ]
  },
  {
   "cell_type": "markdown",
   "metadata": {
    "id": "9JLk3yutSBVV"
   },
   "source": [
    "#### - 데이터 챌린지 목표 \n",
    ": 빅데이터 핸들링 능력, 데이터 특징 추출 및 선택, 차원축소 및 시각화 수행능력 평가\n",
    "#### - 제공 데이터 구성 : 센서데이터(정상/고장1/고장2 각 10개) + 기록데이터(정상/고장1/고장2 각 1개)\n",
    "#### - 총 4단계의 데이터 챌린지를 수행하며, 단계별 결과가 저장된 폴더(Result)와 최종 코드파일(.ipynb)을 1개 압축파일(.zip)로 제출\n",
    "#### +++ csv 데이터 읽을 때 header=None 옵션 사용필수\n",
    "#### +++ csv 데이터 저장할 때 header=None, index=None 옵션 사용필수\n",
    "#### +++ 해당 파일의 Help Code 활용하지 않아도 결과만 맞으면 무관"
   ]
  },
  {
   "cell_type": "markdown",
   "metadata": {
    "id": "FEFHPD3PZbCS"
   },
   "source": [
    "### ! 과제 수행 전 확인사항 !   \n",
    "이 코드 파일과 Data, SplittedData, Result 폴더의 경로는 AI_Code/DataChallenge 폴더 안에 위치시킬 것"
   ]
  },
  {
   "cell_type": "markdown",
   "metadata": {
    "id": "VyPWx7JTSBVW"
   },
   "source": [
    ".\n",
    "\n",
    ".\n",
    "\n",
    "."
   ]
  },
  {
   "cell_type": "markdown",
   "metadata": {
    "id": "s3r0NursSBVX"
   },
   "source": [
    "## 라이브러리 import"
   ]
  },
  {
   "cell_type": "code",
   "execution_count": 102,
   "metadata": {
    "executionInfo": {
     "elapsed": 1238,
     "status": "ok",
     "timestamp": 1649470130092,
     "user": {
      "displayName": "공과대학/최영운",
      "userId": "17538933824946727174"
     },
     "user_tz": -540
    },
    "id": "fjOhm7H7SBVX"
   },
   "outputs": [],
   "source": [
    "import pandas as pd\n",
    "import numpy  as np\n",
    "import scipy.stats as sp\n",
    "import pywt\n",
    "import matplotlib.pyplot as plt\n",
    "from sklearn.decomposition import PCA\n",
    "from sklearn.preprocessing import StandardScaler"
   ]
  },
  {
   "cell_type": "markdown",
   "metadata": {
    "id": "wph1qsOjSBVY"
   },
   "source": [
    "## 센서데이터, 기록데이터 보기"
   ]
  },
  {
   "cell_type": "markdown",
   "metadata": {
    "id": "uT-Mblz0SBVZ"
   },
   "source": [
    "### - 센서데이터 :\n",
    "* 정상, 고장1(Shunting Effect), 고장2(전극 비정렬) 각각 10개 센서데이터\n",
    "* 전류 / 전압 / 가속도 3열로 구성(시간열 없음 주의!)\n",
    "* Sampling Frequency: 12800Hz\n",
    "* Sampling Time: 35초\n",
    "* 데이터 1개당 12개의 용접 스폿이 포함됨\n",
    "\n",
    "### - 기록데이터 :\n",
    "* 정상, 고장1(Shunting Effect), 고장2(전극 비정렬) 각각 1개 기록데이터\n",
    "* 기록데이터의 각 행: 용접 시작 시점의 인덱스 12개"
   ]
  },
  {
   "cell_type": "markdown",
   "metadata": {
    "id": "uVZtaFTsSBVZ"
   },
   "source": [
    "### 데이터 살펴보기"
   ]
  },
  {
   "cell_type": "code",
   "execution_count": 103,
   "metadata": {
    "executionInfo": {
     "elapsed": 2587,
     "status": "ok",
     "timestamp": 1649470167916,
     "user": {
      "displayName": "공과대학/최영운",
      "userId": "17538933824946727174"
     },
     "user_tz": -540
    },
    "id": "KrPB-WN1SBVa",
    "scrolled": true
   },
   "outputs": [],
   "source": [
    "SensorData = pd.read_csv('./Data/Normal/Data_1.csv', header = None, names = ['Current', 'Voltage', 'Acceleration']) # 센서 데이터\n",
    "RecordData = pd.read_csv('./Data/Normal/RecordData.csv', header = None) # 기록 데이터"
   ]
  },
  {
   "cell_type": "code",
   "execution_count": 104,
   "metadata": {
    "colab": {
     "base_uri": "https://localhost:8080/",
     "height": 424
    },
    "executionInfo": {
     "elapsed": 548,
     "status": "ok",
     "timestamp": 1649423470174,
     "user": {
      "displayName": "공과대학/최영운",
      "userId": "17538933824946727174"
     },
     "user_tz": -540
    },
    "id": "BgyIfEvxSBVa",
    "outputId": "25e73b27-3ed1-4aac-940b-63bf2dc5d19f"
   },
   "outputs": [
    {
     "data": {
      "text/html": [
       "<div>\n",
       "<style scoped>\n",
       "    .dataframe tbody tr th:only-of-type {\n",
       "        vertical-align: middle;\n",
       "    }\n",
       "\n",
       "    .dataframe tbody tr th {\n",
       "        vertical-align: top;\n",
       "    }\n",
       "\n",
       "    .dataframe thead th {\n",
       "        text-align: right;\n",
       "    }\n",
       "</style>\n",
       "<table border=\"1\" class=\"dataframe\">\n",
       "  <thead>\n",
       "    <tr style=\"text-align: right;\">\n",
       "      <th></th>\n",
       "      <th>Current</th>\n",
       "      <th>Voltage</th>\n",
       "      <th>Acceleration</th>\n",
       "    </tr>\n",
       "  </thead>\n",
       "  <tbody>\n",
       "    <tr>\n",
       "      <th>0</th>\n",
       "      <td>0.000256</td>\n",
       "      <td>-0.110187</td>\n",
       "      <td>-0.083613</td>\n",
       "    </tr>\n",
       "    <tr>\n",
       "      <th>1</th>\n",
       "      <td>0.000263</td>\n",
       "      <td>0.038778</td>\n",
       "      <td>-0.074989</td>\n",
       "    </tr>\n",
       "    <tr>\n",
       "      <th>2</th>\n",
       "      <td>0.000136</td>\n",
       "      <td>0.081950</td>\n",
       "      <td>-0.076114</td>\n",
       "    </tr>\n",
       "    <tr>\n",
       "      <th>3</th>\n",
       "      <td>0.000155</td>\n",
       "      <td>-0.009106</td>\n",
       "      <td>-0.087737</td>\n",
       "    </tr>\n",
       "    <tr>\n",
       "      <th>4</th>\n",
       "      <td>0.000207</td>\n",
       "      <td>-0.075121</td>\n",
       "      <td>-0.073115</td>\n",
       "    </tr>\n",
       "    <tr>\n",
       "      <th>...</th>\n",
       "      <td>...</td>\n",
       "      <td>...</td>\n",
       "      <td>...</td>\n",
       "    </tr>\n",
       "    <tr>\n",
       "      <th>447995</th>\n",
       "      <td>0.002858</td>\n",
       "      <td>0.012148</td>\n",
       "      <td>-0.086987</td>\n",
       "    </tr>\n",
       "    <tr>\n",
       "      <th>447996</th>\n",
       "      <td>0.002779</td>\n",
       "      <td>0.004938</td>\n",
       "      <td>-0.079113</td>\n",
       "    </tr>\n",
       "    <tr>\n",
       "      <th>447997</th>\n",
       "      <td>0.002906</td>\n",
       "      <td>0.010764</td>\n",
       "      <td>-0.045745</td>\n",
       "    </tr>\n",
       "    <tr>\n",
       "      <th>447998</th>\n",
       "      <td>0.002966</td>\n",
       "      <td>0.014146</td>\n",
       "      <td>-0.072740</td>\n",
       "    </tr>\n",
       "    <tr>\n",
       "      <th>447999</th>\n",
       "      <td>0.003019</td>\n",
       "      <td>-0.008757</td>\n",
       "      <td>-0.079488</td>\n",
       "    </tr>\n",
       "  </tbody>\n",
       "</table>\n",
       "<p>448000 rows × 3 columns</p>\n",
       "</div>"
      ],
      "text/plain": [
       "         Current   Voltage  Acceleration\n",
       "0       0.000256 -0.110187     -0.083613\n",
       "1       0.000263  0.038778     -0.074989\n",
       "2       0.000136  0.081950     -0.076114\n",
       "3       0.000155 -0.009106     -0.087737\n",
       "4       0.000207 -0.075121     -0.073115\n",
       "...          ...       ...           ...\n",
       "447995  0.002858  0.012148     -0.086987\n",
       "447996  0.002779  0.004938     -0.079113\n",
       "447997  0.002906  0.010764     -0.045745\n",
       "447998  0.002966  0.014146     -0.072740\n",
       "447999  0.003019 -0.008757     -0.079488\n",
       "\n",
       "[448000 rows x 3 columns]"
      ]
     },
     "execution_count": 104,
     "metadata": {},
     "output_type": "execute_result"
    }
   ],
   "source": [
    "SensorData"
   ]
  },
  {
   "cell_type": "code",
   "execution_count": 105,
   "metadata": {
    "colab": {
     "base_uri": "https://localhost:8080/",
     "height": 592
    },
    "executionInfo": {
     "elapsed": 1273,
     "status": "ok",
     "timestamp": 1649423476147,
     "user": {
      "displayName": "공과대학/최영운",
      "userId": "17538933824946727174"
     },
     "user_tz": -540
    },
    "id": "MuukYn7sSBVb",
    "outputId": "ecaae6fa-f175-4ea0-c6b0-ef0c3854d074"
   },
   "outputs": [
    {
     "data": {
      "image/png": "[encoded data removed]",
      "text/plain": [
       "<Figure size 1500x1000 with 3 Axes>"
      ]
     },
     "metadata": {},
     "output_type": "display_data"
    }
   ],
   "source": [
    "plt.figure(1, figsize=(15,10))\n",
    "# 전류데이터 Plot\n",
    "plt.subplot(3,1,1)\n",
    "plt.plot(SensorData.iloc[:,0], c = 'r', label = SensorData.columns[0])\n",
    "plt.legend(loc = 'upper right', fontsize = 12)\n",
    "plt.grid()\n",
    "# 전압데이터 Plot\n",
    "plt.subplot(3,1,2)\n",
    "plt.plot(SensorData.iloc[:,1], c = 'g', label = SensorData.columns[1])\n",
    "plt.legend(loc = 'upper right', fontsize = 12)\n",
    "plt.grid()\n",
    "# 가속도데이터 Plot\n",
    "plt.subplot(3,1,3)\n",
    "plt.plot(SensorData.iloc[:,2], c = 'b', label = SensorData.columns[2])\n",
    "plt.legend(loc = 'upper right', fontsize = 12)\n",
    "plt.grid()\n",
    "plt.show()"
   ]
  },
  {
   "cell_type": "code",
   "execution_count": 106,
   "metadata": {
    "colab": {
     "base_uri": "https://localhost:8080/",
     "height": 363
    },
    "executionInfo": {
     "elapsed": 12,
     "status": "ok",
     "timestamp": 1649470170274,
     "user": {
      "displayName": "공과대학/최영운",
      "userId": "17538933824946727174"
     },
     "user_tz": -540
    },
    "id": "OFR-jVwRSBVb",
    "outputId": "6fee922d-9d2c-4d67-9406-6a7987d45a8c"
   },
   "outputs": [
    {
     "data": {
      "text/html": [
       "<div>\n",
       "<style scoped>\n",
       "    .dataframe tbody tr th:only-of-type {\n",
       "        vertical-align: middle;\n",
       "    }\n",
       "\n",
       "    .dataframe tbody tr th {\n",
       "        vertical-align: top;\n",
       "    }\n",
       "\n",
       "    .dataframe thead th {\n",
       "        text-align: right;\n",
       "    }\n",
       "</style>\n",
       "<table border=\"1\" class=\"dataframe\">\n",
       "  <thead>\n",
       "    <tr style=\"text-align: right;\">\n",
       "      <th></th>\n",
       "      <th>0</th>\n",
       "      <th>1</th>\n",
       "      <th>2</th>\n",
       "      <th>3</th>\n",
       "      <th>4</th>\n",
       "      <th>5</th>\n",
       "      <th>6</th>\n",
       "      <th>7</th>\n",
       "      <th>8</th>\n",
       "      <th>9</th>\n",
       "      <th>10</th>\n",
       "      <th>11</th>\n",
       "    </tr>\n",
       "  </thead>\n",
       "  <tbody>\n",
       "    <tr>\n",
       "      <th>0</th>\n",
       "      <td>74904</td>\n",
       "      <td>101782</td>\n",
       "      <td>128458</td>\n",
       "      <td>154923</td>\n",
       "      <td>181601</td>\n",
       "      <td>208280</td>\n",
       "      <td>234958</td>\n",
       "      <td>261421</td>\n",
       "      <td>288950</td>\n",
       "      <td>316479</td>\n",
       "      <td>343583</td>\n",
       "      <td>370474</td>\n",
       "    </tr>\n",
       "    <tr>\n",
       "      <th>1</th>\n",
       "      <td>69471</td>\n",
       "      <td>96354</td>\n",
       "      <td>123032</td>\n",
       "      <td>149496</td>\n",
       "      <td>176174</td>\n",
       "      <td>202850</td>\n",
       "      <td>229527</td>\n",
       "      <td>255989</td>\n",
       "      <td>283517</td>\n",
       "      <td>311259</td>\n",
       "      <td>338573</td>\n",
       "      <td>365460</td>\n",
       "    </tr>\n",
       "    <tr>\n",
       "      <th>2</th>\n",
       "      <td>73402</td>\n",
       "      <td>100279</td>\n",
       "      <td>126740</td>\n",
       "      <td>153200</td>\n",
       "      <td>179873</td>\n",
       "      <td>206548</td>\n",
       "      <td>233223</td>\n",
       "      <td>259688</td>\n",
       "      <td>287220</td>\n",
       "      <td>314964</td>\n",
       "      <td>342067</td>\n",
       "      <td>368954</td>\n",
       "    </tr>\n",
       "    <tr>\n",
       "      <th>3</th>\n",
       "      <td>72413</td>\n",
       "      <td>99289</td>\n",
       "      <td>125744</td>\n",
       "      <td>152411</td>\n",
       "      <td>179075</td>\n",
       "      <td>205735</td>\n",
       "      <td>232393</td>\n",
       "      <td>258838</td>\n",
       "      <td>286351</td>\n",
       "      <td>313867</td>\n",
       "      <td>340954</td>\n",
       "      <td>368041</td>\n",
       "    </tr>\n",
       "    <tr>\n",
       "      <th>4</th>\n",
       "      <td>75502</td>\n",
       "      <td>102378</td>\n",
       "      <td>128835</td>\n",
       "      <td>155503</td>\n",
       "      <td>182171</td>\n",
       "      <td>208839</td>\n",
       "      <td>235721</td>\n",
       "      <td>262176</td>\n",
       "      <td>289484</td>\n",
       "      <td>317221</td>\n",
       "      <td>344318</td>\n",
       "      <td>371415</td>\n",
       "    </tr>\n",
       "    <tr>\n",
       "      <th>5</th>\n",
       "      <td>71015</td>\n",
       "      <td>97895</td>\n",
       "      <td>124359</td>\n",
       "      <td>151038</td>\n",
       "      <td>177929</td>\n",
       "      <td>204820</td>\n",
       "      <td>231496</td>\n",
       "      <td>257956</td>\n",
       "      <td>285270</td>\n",
       "      <td>313014</td>\n",
       "      <td>340119</td>\n",
       "      <td>367012</td>\n",
       "    </tr>\n",
       "    <tr>\n",
       "      <th>6</th>\n",
       "      <td>69157</td>\n",
       "      <td>96036</td>\n",
       "      <td>122496</td>\n",
       "      <td>148951</td>\n",
       "      <td>175617</td>\n",
       "      <td>202496</td>\n",
       "      <td>229165</td>\n",
       "      <td>255623</td>\n",
       "      <td>283149</td>\n",
       "      <td>310889</td>\n",
       "      <td>338199</td>\n",
       "      <td>365294</td>\n",
       "    </tr>\n",
       "    <tr>\n",
       "      <th>7</th>\n",
       "      <td>73063</td>\n",
       "      <td>99925</td>\n",
       "      <td>126584</td>\n",
       "      <td>153031</td>\n",
       "      <td>179693</td>\n",
       "      <td>206568</td>\n",
       "      <td>233228</td>\n",
       "      <td>259675</td>\n",
       "      <td>287191</td>\n",
       "      <td>314921</td>\n",
       "      <td>342013</td>\n",
       "      <td>369107</td>\n",
       "    </tr>\n",
       "    <tr>\n",
       "      <th>8</th>\n",
       "      <td>69916</td>\n",
       "      <td>96776</td>\n",
       "      <td>123221</td>\n",
       "      <td>149881</td>\n",
       "      <td>176542</td>\n",
       "      <td>203204</td>\n",
       "      <td>230079</td>\n",
       "      <td>256528</td>\n",
       "      <td>283831</td>\n",
       "      <td>311561</td>\n",
       "      <td>338651</td>\n",
       "      <td>365741</td>\n",
       "    </tr>\n",
       "    <tr>\n",
       "      <th>9</th>\n",
       "      <td>68888</td>\n",
       "      <td>95753</td>\n",
       "      <td>122201</td>\n",
       "      <td>148864</td>\n",
       "      <td>175528</td>\n",
       "      <td>202405</td>\n",
       "      <td>229068</td>\n",
       "      <td>255516</td>\n",
       "      <td>282818</td>\n",
       "      <td>310548</td>\n",
       "      <td>337639</td>\n",
       "      <td>364728</td>\n",
       "    </tr>\n",
       "  </tbody>\n",
       "</table>\n",
       "</div>"
      ],
      "text/plain": [
       "      0       1       2       3       4       5       6       7       8   \\\n",
       "0  74904  101782  128458  154923  181601  208280  234958  261421  288950   \n",
       "1  69471   96354  123032  149496  176174  202850  229527  255989  283517   \n",
       "2  73402  100279  126740  153200  179873  206548  233223  259688  287220   \n",
       "3  72413   99289  125744  152411  179075  205735  232393  258838  286351   \n",
       "4  75502  102378  128835  155503  182171  208839  235721  262176  289484   \n",
       "5  71015   97895  124359  151038  177929  204820  231496  257956  285270   \n",
       "6  69157   96036  122496  148951  175617  202496  229165  255623  283149   \n",
       "7  73063   99925  126584  153031  179693  206568  233228  259675  287191   \n",
       "8  69916   96776  123221  149881  176542  203204  230079  256528  283831   \n",
       "9  68888   95753  122201  148864  175528  202405  229068  255516  282818   \n",
       "\n",
       "       9       10      11  \n",
       "0  316479  343583  370474  \n",
       "1  311259  338573  365460  \n",
       "2  314964  342067  368954  \n",
       "3  313867  340954  368041  \n",
       "4  317221  344318  371415  \n",
       "5  313014  340119  367012  \n",
       "6  310889  338199  365294  \n",
       "7  314921  342013  369107  \n",
       "8  311561  338651  365741  \n",
       "9  310548  337639  364728  "
      ]
     },
     "execution_count": 106,
     "metadata": {},
     "output_type": "execute_result"
    }
   ],
   "source": [
    "RecordData"
   ]
  },
  {
   "cell_type": "code",
   "execution_count": 107,
   "metadata": {},
   "outputs": [
    {
     "data": {
      "image/png": "[encoded data removed]",
      "text/plain": [
       "<Figure size 1500x1000 with 3 Axes>"
      ]
     },
     "metadata": {},
     "output_type": "display_data"
    }
   ],
   "source": [
    "# 정상 스폿용접 센서 데이터 보기\n",
    "DataNo = 1   # 1~10\n",
    "SpotNo = 10  # 1~12\n",
    "\n",
    "SensorData = pd.read_csv('./Data/Normal/Data_%d.csv'%DataNo, header = None, names = ['Current', 'Voltage', 'Acceleration']) # 센서 데이터\n",
    "\n",
    "start_index = RecordData.iloc[DataNo - 1, SpotNo - 1]\n",
    "SensorData_spot = SensorData.iloc[start_index:start_index+2774, :]\n",
    "\n",
    "plt.figure(1, figsize=(15,10))\n",
    "# 전류데이터 Plot\n",
    "plt.subplot(3,1,1)\n",
    "plt.plot(SensorData_spot.iloc[:,0], c = 'r', label = SensorData_spot.columns[0])\n",
    "plt.legend(loc = 'upper right', fontsize = 12)\n",
    "plt.grid()\n",
    "# 전압데이터 Plot\n",
    "plt.subplot(3,1,2)\n",
    "plt.plot(SensorData_spot.iloc[:,1], c = 'g', label = SensorData_spot.columns[1])\n",
    "plt.legend(loc = 'upper right', fontsize = 12)\n",
    "plt.grid()\n",
    "# 가속도데이터 Plot\n",
    "plt.subplot(3,1,3)\n",
    "plt.plot(SensorData_spot.iloc[:,2], c = 'b', label = SensorData_spot.columns[2])\n",
    "plt.legend(loc = 'upper right', fontsize = 12)\n",
    "plt.grid()\n",
    "plt.show()"
   ]
  },
  {
   "cell_type": "markdown",
   "metadata": {
    "id": "KyAGklToSBVc"
   },
   "source": [
    ".\n",
    "\n",
    ".\n",
    "\n",
    "."
   ]
  },
  {
   "cell_type": "markdown",
   "metadata": {
    "id": "CzJmA6y4SBVc"
   },
   "source": [
    "# [1단계] 센서데이터 분할\n",
    "> #### 기록데이터 상 각각의 용접 시작 시점부터 2774행만큼(≒0.2167초간) 해당 센서데이터 Spot별로 분할, 저장\n",
    "> #### 저장 경로 : 이 코드 파일이 위치한 경로의 ' SplittedData' 폴더 내부"
   ]
  },
  {
   "cell_type": "markdown",
   "metadata": {
    "id": "htWyoQOQSBVc"
   },
   "source": [
    "## 필수!\n",
    "\n",
    "#### SplittedData 폴더 내부 각 데이터 파일명:\n",
    "* 정상(Normal) : Normal_1.csv, Normal_2.csv, Normal_3.csv, ..., Normal_120.csv\n",
    "* 고장1(Fault Mode 1) : Abnormal1_1.csv, Abnormal1_2.csv, Abnormal1_3.csv, ..., Abnormal1_120.csv\n",
    "* 고장2(Fault Mode 2) : Abnormal2_1.csv, Abnormal2_2.csv, Abnormal2_3.csv, ..., Abnormal2_120.csv"
   ]
  },
  {
   "cell_type": "code",
   "execution_count": 108,
   "metadata": {
    "id": "RA9WglGoSBVd",
    "scrolled": true
   },
   "outputs": [],
   "source": [
    "# Guide Code : 활용하지 않아도 결과만 맞으면 무관\n",
    "\n",
    "NoOfData = 10\n",
    "NoOfSpot = 12\n",
    "\n",
    "RecordData_Normal    = pd.read_csv('./Data/Normal/RecordData.csv'   , header = None) # 정상  기록데이터 불러오기\n",
    "RecordData_Abnormal1 = pd.read_csv('./Data/Abnormal1/RecordData.csv', header = None) # 고장1 기록데이터 불러오기\n",
    "RecordData_Abnormal2 = pd.read_csv('./Data/Abnormal2/RecordData.csv', header = None) # 고장2 기록데이터 불러오기\n",
    "\n",
    "for i in range(NoOfData):\n",
    "    temp_path1 = './Data/Normal/Data_%d.csv'%(i+1)     # 정상  데이터 불러오기\n",
    "    temp_path2 = './Data/Abnormal1/Data_%d.csv'%(i+1)  # 고장1 데이터 불러오기\n",
    "    temp_path3 = './Data/Abnormal2/Data_%d.csv'%(i+1)  # 고장2 데이터 불러오기\n",
    "\n",
    "    #데이터를 임시로 불러옵니다. \n",
    "    data1=pd.read_csv(temp_path1,sep=',')\n",
    "    data2=pd.read_csv(temp_path2,sep=',')\n",
    "    data3=pd.read_csv(temp_path3,sep=',')\n",
    "\n",
    "    #데이터를 스폿 별로 분해합니다. \n",
    "    for j in range(NoOfSpot):\n",
    "        N_spot=RecordData_Normal.iloc[i,j]\n",
    "        A1_spot=RecordData_Abnormal1.iloc[i,j]\n",
    "        A2_spot=RecordData_Abnormal2.iloc[i,j]\n",
    "        temp_Normal=data1.iloc[N_spot-1:N_spot+2773,:]\n",
    "        temp_Abnormal1=data1.iloc[A1_spot-1:A1_spot+2773,:]\n",
    "        temp_Abnormal2=data1.iloc[A2_spot-1:A2_spot+2773,:]        \n",
    "        \n",
    "        temp_Normal.to_csv('./SplittedData/Normal_%d.csv'%(i*NoOfSpot+j+1), header=None, index=None)\n",
    "        temp_Abnormal1.to_csv('./SplittedData/Abnormal1_%d.csv'%(i*NoOfSpot+j+1), header=None, index=None)\n",
    "        temp_Abnormal2.to_csv('./SplittedData/Abnormal2_%d.csv'%(i*NoOfSpot+j+1), header=None, index=None)"
   ]
  },
  {
   "cell_type": "markdown",
   "metadata": {
    "id": "j0I5sOq7SBVe"
   },
   "source": [
    "### !!! (수강생 번호 외 코드 수정 X) 1단계 결과물을 제출용 파일로 저장"
   ]
  },
  {
   "cell_type": "code",
   "execution_count": 109,
   "metadata": {
    "id": "oRdOJcMPSBVe"
   },
   "outputs": [],
   "source": [
    "StudentNo =  332   # 수강생 번호 입력\n",
    "\n",
    "\n",
    "Step1File1 = pd.read_csv('./SplittedData/Normal_120.csv', header=None)\n",
    "Step1File2 = pd.read_csv('./SplittedData/Abnormal1_120.csv', header=None)\n",
    "Step1File3 = pd.read_csv('./SplittedData/Abnormal2_120.csv', header=None)\n",
    "\n",
    "Path1 = './Result/ST%d_DC1_1.csv'%StudentNo\n",
    "Path2 = './Result/ST%d_DC1_2.csv'%StudentNo\n",
    "Path3 = './Result/ST%d_DC1_3.csv'%StudentNo\n",
    "\n",
    "Step1File1.to_csv(Path1, header=None, index=None)\n",
    "Step1File2.to_csv(Path2, header=None, index=None)\n",
    "Step1File3.to_csv(Path3, header=None, index=None)"
   ]
  },
  {
   "cell_type": "markdown",
   "metadata": {
    "id": "a6em82hhSBVf"
   },
   "source": [
    ".\n",
    "\n",
    ".\n",
    "\n",
    "."
   ]
  },
  {
   "cell_type": "markdown",
   "metadata": {
    "id": "C4aax4TDSBVf"
   },
   "source": [
    "# [2단계] Time, Frequency domain 특징 추출\n",
    "\n",
    "> ### 1단계에서 분할한 데이터들을 대상으로 정상/고장1/고장2 데이터들을 모두 불러와서 특징 추출하기 "
   ]
  },
  {
   "cell_type": "markdown",
   "metadata": {
    "id": "mXUYJbMeSBVg"
   },
   "source": [
    "## 필수!\n",
    "* 특징값 종류 및 순서(실습코드와 동일) : Max, Min, Mean, RMS, Variance, Skewness, Kurtosis, Crest factor, Shape factor, Impulse factor\n",
    "* 웨이블릿 분해 : MotherWavelet = haar, Level = 8로 설정\n",
    "* 데이터당 시간 영역 특징 30개, 주파수 영역(웨이블릿 분해) 특징 240개 추출 => 전체 특징데이터 Shape (270, 360)\n",
    "* 추출한 특징데이터(DataFrame) 변수명: FeatureData"
   ]
  },
  {
   "cell_type": "code",
   "execution_count": 110,
   "metadata": {
    "executionInfo": {
     "elapsed": 310,
     "status": "ok",
     "timestamp": 1649470320270,
     "user": {
      "displayName": "공과대학/최영운",
      "userId": "17538933824946727174"
     },
     "user_tz": -540
    },
    "id": "jnLw7tILSBVg"
   },
   "outputs": [],
   "source": [
    "NoOfData    = 120  # 정상/고장1/고장2 스폿용접 데이터 각 120개씩 \n",
    "NoOfSensor  = 3    # 전류(Current), 전압(Voltage), 가속도(Acceleration)\n",
    "NoOfFeature = 10   # 특징 개수:10개 (순서: Max, Min, Mean, RMS, Variance, Skewness, Kurtosis, Crest factor, Shape factor, Impulse factor)"
   ]
  },
  {
   "cell_type": "markdown",
   "metadata": {
    "id": "KzxP_xybSBVh"
   },
   "source": [
    "#### 특징 추출(Time domain)"
   ]
  },
  {
   "cell_type": "code",
   "execution_count": 111,
   "metadata": {
    "executionInfo": {
     "elapsed": 319,
     "status": "ok",
     "timestamp": 1649470322018,
     "user": {
      "displayName": "공과대학/최영운",
      "userId": "17538933824946727174"
     },
     "user_tz": -540
    },
    "id": "463cQPD6SBVh"
   },
   "outputs": [],
   "source": [
    "def rms(x): # RMS 함수 정의\n",
    "    return np.sqrt(np.mean(x**2))"
   ]
  },
  {
   "cell_type": "code",
   "execution_count": 112,
   "metadata": {
    "colab": {
     "base_uri": "https://localhost:8080/"
    },
    "executionInfo": {
     "elapsed": 119743,
     "status": "ok",
     "timestamp": 1649470442535,
     "user": {
      "displayName": "공과대학/최영운",
      "userId": "17538933824946727174"
     },
     "user_tz": -540
    },
    "id": "w1oL4VffSBVh",
    "outputId": "bfc265f5-1154-44f3-8b2a-635099eb169e"
   },
   "outputs": [],
   "source": [
    "# Time Domain 특징값 추출\n",
    "\n",
    "# 특징데이터 크기 지정\n",
    "TimeFeature_Normal = np.zeros((NoOfSensor*NoOfFeature , NoOfData))\n",
    "TimeFeature_Abnormal1 = np.zeros((NoOfSensor*NoOfFeature , NoOfData))\n",
    "TimeFeature_Abnormal2 = np.zeros((NoOfSensor*NoOfFeature , NoOfData))\n",
    "\n",
    "for i in range(NoOfData):\n",
    "    \n",
    "    # 데이터 불러오기\n",
    "    temp_path1 = './SplittedData/Normal_%d.csv'%(i+1)      # 정상 데이터 파일 경로\n",
    "    temp_path2 = './SplittedData/Abnormal1_%d.csv'%(i+1)   # 고장1 데이터 파일 경로\n",
    "    temp_path3 = './SplittedData/Abnormal2_%d.csv'%(i+1)   # 고장2 데이터 파일 경로\n",
    "\n",
    "    N_data=pd.read_csv(temp_path1,sep=',')\n",
    "    A1_data=pd.read_csv(temp_path2,sep=',')    \n",
    "    A2_data=pd.read_csv(temp_path3,sep=',')    \n",
    "    \n",
    "    \n",
    "    \n",
    "    for j in range(NoOfSensor):\n",
    "        # Normal Time Domain Feature\n",
    "        TimeFeature_Normal[10*j+0, i] = np.max(N_data.iloc[:,j])\n",
    "        TimeFeature_Normal[10*j+1, i] = np.min(N_data.iloc[:,j])\n",
    "        TimeFeature_Normal[10*j+2, i] = np.mean(N_data.iloc[:,j])\n",
    "        TimeFeature_Normal[10*j+3, i] = rms(N_data.iloc[:,j])\n",
    "        TimeFeature_Normal[10*j+4, i] = np.var(N_data.iloc[:,j])\n",
    "        TimeFeature_Normal[10*j+5, i] = sp.skew(N_data.iloc[:,j])\n",
    "        TimeFeature_Normal[10*j+6, i] = sp.kurtosis(N_data.iloc[:,j])\n",
    "        TimeFeature_Normal[10*j+7, i] = np.max(N_data.iloc[:,j])/rms(N_data.iloc[:,j])\n",
    "        TimeFeature_Normal[10*j+8, i] = rms(N_data.iloc[:,j])/np.mean(np.abs(N_data.iloc[:,j]))\n",
    "        TimeFeature_Normal[10*j+9, i] = np.max(N_data.iloc[:,j])/np.mean(np.abs(N_data.iloc[:,j]))\n",
    "                \n",
    "\n",
    "        # Abnormal1 Time Domain Feature\n",
    "        TimeFeature_Abnormal1[10*j+0, i] = np.max(A1_data.iloc[:, j])\n",
    "        TimeFeature_Abnormal1[10*j+1, i] = np.min(A1_data.iloc[:, j])\n",
    "        TimeFeature_Abnormal1[10*j+2, i] = np.mean(A1_data.iloc[:, j])\n",
    "        TimeFeature_Abnormal1[10*j+3, i] = rms(A1_data.iloc[:, j])\n",
    "        TimeFeature_Abnormal1[10*j+4, i] = np.var(A1_data.iloc[:, j])\n",
    "        TimeFeature_Abnormal1[10*j+5, i] = sp.skew(A1_data.iloc[:, j])\n",
    "        TimeFeature_Abnormal1[10*j+6, i] = sp.kurtosis(A1_data.iloc[:, j])\n",
    "        TimeFeature_Abnormal1[10*j+7, i] = np.max(A1_data.iloc[:, j]) / rms(A1_data.iloc[:, j])\n",
    "        TimeFeature_Abnormal1[10*j+8, i] = rms(A1_data.iloc[:, j]) / np.mean(np.abs(A1_data.iloc[:, j]))\n",
    "        TimeFeature_Abnormal1[10*j+9, i] = np.max(A1_data.iloc[:, j]) / np.mean(np.abs(A1_data.iloc[:, j]))\n",
    "\n",
    "\n",
    "        \n",
    "\n",
    "        # Abnormal2 Time Domain Feature\n",
    "        TimeFeature_Abnormal2[10*j+0, i] = np.max(A2_data.iloc[:, j])\n",
    "        TimeFeature_Abnormal2[10*j+1, i] = np.min(A2_data.iloc[:, j])\n",
    "        TimeFeature_Abnormal2[10*j+2, i] = np.mean(A2_data.iloc[:, j])\n",
    "        TimeFeature_Abnormal2[10*j+3, i] = rms(A2_data.iloc[:, j])\n",
    "        TimeFeature_Abnormal2[10*j+4, i] = np.var(A2_data.iloc[:, j])\n",
    "        TimeFeature_Abnormal2[10*j+5, i] = sp.skew(A2_data.iloc[:, j])\n",
    "        TimeFeature_Abnormal2[10*j+6, i] = sp.kurtosis(A2_data.iloc[:, j])\n",
    "        TimeFeature_Abnormal2[10*j+7, i] = np.max(A2_data.iloc[:, j]) / rms(A2_data.iloc[:, j])\n",
    "        TimeFeature_Abnormal2[10*j+8, i] = rms(A2_data.iloc[:, j]) / np.mean(np.abs(A2_data.iloc[:, j]))\n",
    "        TimeFeature_Abnormal2[10*j+9, i] = np.max(A2_data.iloc[:, j]) / np.mean(np.abs(A2_data.iloc[:, j]))\n",
    "\n"
   ]
  },
  {
   "cell_type": "code",
   "execution_count": 113,
   "metadata": {
    "colab": {
     "base_uri": "https://localhost:8080/"
    },
    "executionInfo": {
     "elapsed": 12,
     "status": "ok",
     "timestamp": 1649470442537,
     "user": {
      "displayName": "공과대학/최영운",
      "userId": "17538933824946727174"
     },
     "user_tz": -540
    },
    "id": "8-Ahb9XJSBVi",
    "outputId": "91f038e6-e138-4b05-9dc9-253973660016"
   },
   "outputs": [
    {
     "data": {
      "text/plain": [
       "(30, 360)"
      ]
     },
     "execution_count": 113,
     "metadata": {},
     "output_type": "execute_result"
    }
   ],
   "source": [
    "# 시간영역 특징 합치기(가로 방향)\n",
    "TimeFeature = np.concatenate([TimeFeature_Normal, TimeFeature_Abnormal1,TimeFeature_Abnormal2] , axis=1)\n",
    "TimeFeature.shape\n"
   ]
  },
  {
   "cell_type": "markdown",
   "metadata": {
    "id": "DbshUA54SBVj"
   },
   "source": [
    "#### 특징 추출(Frequency domain)"
   ]
  },
  {
   "cell_type": "code",
   "execution_count": 114,
   "metadata": {
    "colab": {
     "base_uri": "https://localhost:8080/"
    },
    "executionInfo": {
     "elapsed": 7903,
     "status": "ok",
     "timestamp": 1649470450433,
     "user": {
      "displayName": "공과대학/최영운",
      "userId": "17538933824946727174"
     },
     "user_tz": -540
    },
    "id": "Y7fCBZRdSBVj",
    "outputId": "7fb274f2-a934-408c-e8e8-31623fddba18"
   },
   "outputs": [],
   "source": [
    "#Frequency Domain 특징값 추출 (Wavelet Transform 기반)\n",
    "# Wavelet options\n",
    "\n",
    "MotherWavelet = pywt.Wavelet('haar')   # Mother wavelet (모함수) 지정\n",
    "Level   = 8                            # Wavelet 분해 레벨 지정\n",
    "select  = 8                            # 특징추출 영역 고주파 영역부터 개수 지정 (d1~)\n",
    "\n",
    "#Frequency Domain 특징값 추출 (Wavelet Transform 기반)\n",
    "FreqFeature_Normal    = np.zeros(shape=(NoOfSensor*NoOfFeature*select , NoOfData))\n",
    "FreqFeature_Abnormal1 = np.zeros(shape=(NoOfSensor*NoOfFeature*select , NoOfData))\n",
    "FreqFeature_Abnormal2 = np.zeros(shape=(NoOfSensor*NoOfFeature*select , NoOfData))\n",
    "\n",
    "for i in range(NoOfData):\n",
    "    \n",
    "    # 데이터 불러오기\n",
    "    temp_path1 = './SplittedData/Normal_%d.csv'%(i+1)      # 정상 데이터 파일 경로\n",
    "    temp_path2 = './SplittedData/Abnormal1_%d.csv'%(i+1)   # 고장1 데이터 파일 경로\n",
    "    temp_path3 = './SplittedData/Abnormal2_%d.csv'%(i+1)   # 고장2 데이터 파일 경로\n",
    "    \n",
    "    temp_data1 = np.array(pd.read_csv(temp_path1 , sep=',', header=None)) # 정상  데이터\n",
    "    temp_data2 = np.array(pd.read_csv(temp_path2 , sep=',', header=None)) # 고장1 데이터\n",
    "    temp_data3 = np.array(pd.read_csv(temp_path3 , sep=',', header=None)) # 고장2 데이터\n",
    "    \n",
    "    Coef1      = pywt.wavedec(temp_data1, MotherWavelet, level=Level, axis=0)\n",
    "    Coef2      = pywt.wavedec(temp_data2, MotherWavelet, level=Level, axis=0)    \n",
    "    Coef3      = pywt.wavedec(temp_data2, MotherWavelet, level=Level, axis=0)     \n",
    "    \n",
    "    \n",
    "    \n",
    "    for j in range(NoOfSensor):\n",
    "        \n",
    "        for k in np.arange(select):\n",
    "            coef1 = Coef1[Level-k]\n",
    "            coef2 = Coef2[Level-k]  \n",
    "            coef3 = Coef3[Level-k] \n",
    "   \n",
    "            # Normal Frequency Domain Feature\n",
    "            FreqFeature_Normal[NoOfFeature*j*select + k*NoOfFeature + 0, i] = np.max(coef1[:, j])\n",
    "            FreqFeature_Normal[NoOfFeature*j*select + k*NoOfFeature + 1, i] = np.min(coef1[:, j])\n",
    "            FreqFeature_Normal[NoOfFeature*j*select + k*NoOfFeature + 2, i] = np.mean(coef1[:, j])\n",
    "            FreqFeature_Normal[NoOfFeature*j*select + k*NoOfFeature + 3, i] = rms(coef1[:, j])\n",
    "            FreqFeature_Normal[NoOfFeature*j*select + k*NoOfFeature + 4, i] = np.var(coef1[:, j])\n",
    "            FreqFeature_Normal[NoOfFeature*j*select + k*NoOfFeature + 5, i] = sp.skew(coef1[:, j])\n",
    "            FreqFeature_Normal[NoOfFeature*j*select + k*NoOfFeature + 6, i] = sp.kurtosis(coef1[:, j])\n",
    "            FreqFeature_Normal[NoOfFeature*j*select + k*NoOfFeature + 7, i] = np.max(coef1[:, j]) / rms(coef1[:, j])\n",
    "            FreqFeature_Normal[NoOfFeature*j*select + k*NoOfFeature + 8, i] = rms(coef1[:, j]) / np.mean(np.abs(coef1[:, j]))\n",
    "            FreqFeature_Normal[NoOfFeature*j*select + k*NoOfFeature + 9, i] = np.max(coef1[:, j]) / np.mean(np.abs(coef1[:, j]))\n",
    "\n",
    "            # Abnormal Frequency Domain Feature\n",
    "            \n",
    "            FreqFeature_Abnormal1[NoOfFeature*j*select + k*NoOfFeature + 0, i] = np.max(coef2[:, j])\n",
    "            FreqFeature_Abnormal1[NoOfFeature*j*select + k*NoOfFeature + 1, i] = np.min(coef2[:, j])\n",
    "            FreqFeature_Abnormal1[NoOfFeature*j*select + k*NoOfFeature + 2, i] = np.mean(coef2[:, j])\n",
    "            FreqFeature_Abnormal1[NoOfFeature*j*select + k*NoOfFeature + 3, i] = rms(coef2[:, j])\n",
    "            FreqFeature_Abnormal1[NoOfFeature*j*select + k*NoOfFeature + 4, i] = np.var(coef2[:, j])\n",
    "            FreqFeature_Abnormal1[NoOfFeature*j*select + k*NoOfFeature + 5, i] = sp.skew(coef2[:, j])\n",
    "            FreqFeature_Abnormal1[NoOfFeature*j*select + k*NoOfFeature + 6, i] = sp.kurtosis(coef2[:, j])\n",
    "            FreqFeature_Abnormal1[NoOfFeature*j*select + k*NoOfFeature + 7, i] = np.max(coef2[:, j]) / rms(coef2[:, j])\n",
    "            FreqFeature_Abnormal1[NoOfFeature*j*select + k*NoOfFeature + 8, i] = rms(coef2[:, j]) / np.mean(np.abs(coef2[:, j]))\n",
    "            FreqFeature_Abnormal1[NoOfFeature*j*select + k*NoOfFeature + 9, i] = np.max(coef2[:, j]) / np.mean(np.abs(coef2[:, j]))\n",
    "\n",
    "           # Abnormal2 Frequency Domain Feature\n",
    "            FreqFeature_Abnormal2[NoOfFeature*j*select + k*NoOfFeature + 0, i] = np.max(coef2[:, j])\n",
    "            FreqFeature_Abnormal2[NoOfFeature*j*select + k*NoOfFeature + 1, i] = np.min(coef2[:, j])\n",
    "            FreqFeature_Abnormal2[NoOfFeature*j*select + k*NoOfFeature + 2, i] = np.mean(coef2[:, j])\n",
    "            FreqFeature_Abnormal2[NoOfFeature*j*select + k*NoOfFeature + 3, i] = rms(coef2[:, j])\n",
    "            FreqFeature_Abnormal2[NoOfFeature*j*select + k*NoOfFeature + 4, i] = np.var(coef2[:, j])\n",
    "            FreqFeature_Abnormal2[NoOfFeature*j*select + k*NoOfFeature + 5, i] = sp.skew(coef2[:, j])\n",
    "            FreqFeature_Abnormal2[NoOfFeature*j*select + k*NoOfFeature + 6, i] = sp.kurtosis(coef2[:, j])\n",
    "            FreqFeature_Abnormal2[NoOfFeature*j*select + k*NoOfFeature + 7, i] = np.max(coef2[:, j]) / rms(coef2[:, j])\n",
    "            FreqFeature_Abnormal2[NoOfFeature*j*select + k*NoOfFeature + 8, i] = rms(coef2[:, j]) / np.mean(np.abs(coef2[:, j]))\n",
    "            FreqFeature_Abnormal2[NoOfFeature*j*select + k*NoOfFeature + 9, i] = np.max(coef2[:, j]) / np.mean(np.abs(coef2[:, j]))\n",
    "                        \n",
    "    \n",
    "            "
   ]
  },
  {
   "cell_type": "code",
   "execution_count": 115,
   "metadata": {
    "colab": {
     "base_uri": "https://localhost:8080/"
    },
    "executionInfo": {
     "elapsed": 19,
     "status": "ok",
     "timestamp": 1649470450433,
     "user": {
      "displayName": "공과대학/최영운",
      "userId": "17538933824946727174"
     },
     "user_tz": -540
    },
    "id": "NiZUFq6dSBVl",
    "outputId": "30593057-8f21-4a8c-e319-64e6468682f9"
   },
   "outputs": [
    {
     "data": {
      "text/plain": [
       "(240, 360)"
      ]
     },
     "execution_count": 115,
     "metadata": {},
     "output_type": "execute_result"
    }
   ],
   "source": [
    "# 주파수영역 특징 합치기(가로 방향)\n",
    "FreqFeature = np.concatenate([FreqFeature_Normal, FreqFeature_Abnormal1,FreqFeature_Abnormal2] , axis=1)\n",
    "FreqFeature.shape\n"
   ]
  },
  {
   "cell_type": "code",
   "execution_count": 116,
   "metadata": {
    "executionInfo": {
     "elapsed": 16,
     "status": "ok",
     "timestamp": 1649470450434,
     "user": {
      "displayName": "공과대학/최영운",
      "userId": "17538933824946727174"
     },
     "user_tz": -540
    },
    "id": "TzwGIDwrSBVm"
   },
   "outputs": [
    {
     "data": {
      "text/plain": [
       "(270, 360)"
      ]
     },
     "execution_count": 116,
     "metadata": {},
     "output_type": "execute_result"
    }
   ],
   "source": [
    "# 시간/주파수영역 특징 합치기(세로 방향)\n",
    "\n",
    "FeatureData = np.concatenate([TimeFeature,FreqFeature] , axis=0)\n",
    "FeatureData = pd.DataFrame(FeatureData)\n",
    "FeatureData.shape\n"
   ]
  },
  {
   "cell_type": "markdown",
   "metadata": {
    "id": "V42OE7qHSBVm"
   },
   "source": [
    "### 2단계 결과물 제출용 파일로 저장(수강생 번호 외 코드 수정 X)"
   ]
  },
  {
   "cell_type": "code",
   "execution_count": 117,
   "metadata": {
    "id": "4BB1zbrwSBVn"
   },
   "outputs": [],
   "source": [
    "StudentNo = 332   # 수강생 번호 입력\n",
    "\n",
    "Path1 = './Result/ST%d_DC2.csv'%StudentNo\n",
    "FeatureData.to_csv(Path1, header=None, index=None)"
   ]
  },
  {
   "cell_type": "markdown",
   "metadata": {
    "id": "sQ8Et9ZjSBVn"
   },
   "source": [
    ".\n",
    "\n",
    ".\n",
    "\n",
    "."
   ]
  },
  {
   "cell_type": "markdown",
   "metadata": {
    "id": "6lX23VqNSBVn"
   },
   "source": [
    "# [3단계] 특징 데이터 ANOVA 수행\n",
    "> ### 특징 데이터 분리하여 정상/고장1/고장2 각각 ANOVA 기반 구분성 상위 10개 특징 선택\n",
    "> ### ANOVA: scipy.stats 라이브러리의 f_oneway 함수 사용\n",
    "> ##### (참고:https://docs.scipy.org/doc/scipy/reference/generated/scipy.stats.f_oneway.html)"
   ]
  },
  {
   "cell_type": "markdown",
   "metadata": {
    "id": "vdP_7S30SBVn"
   },
   "source": [
    "## 필수!\n",
    "* 정상/고장1/고장2  P value 기반 구분성 상위 10개 선택된 특징(DataFrame) 변수명 : FeatureSelected"
   ]
  },
  {
   "cell_type": "markdown",
   "metadata": {
    "id": "bY52fjRHSBVn"
   },
   "source": [
    "#### 특징데이터 분리: 정상, 고장1, 고장2"
   ]
  },
  {
   "cell_type": "code",
   "execution_count": 131,
   "metadata": {
    "colab": {
     "base_uri": "https://localhost:8080/"
    },
    "executionInfo": {
     "elapsed": 531,
     "status": "ok",
     "timestamp": 1649426107769,
     "user": {
      "displayName": "공과대학/최영운",
      "userId": "17538933824946727174"
     },
     "user_tz": -540
    },
    "id": "_xHpjVMsSBVn",
    "outputId": "ac8bf51a-8ba5-46df-bcbd-86d499377842"
   },
   "outputs": [
    {
     "name": "stdout",
     "output_type": "stream",
     "text": [
      "(270, 120)\n",
      "(270, 120)\n",
      "(270, 120)\n"
     ]
    }
   ],
   "source": [
    "NoOfData = int(FeatureData.shape[1]/3)\n",
    "Normal_FeatureData    = FeatureData.iloc[:,:NoOfData]\n",
    "Abnormal_FeatureData1 = FeatureData.iloc[:,NoOfData:NoOfData*2]\n",
    "Abnormal_FeatureData2 = FeatureData.iloc[:,NoOfData*2:]\n",
    "\n",
    "print(Normal_FeatureData.shape)\n",
    "print(Abnormal_FeatureData1.shape)\n",
    "print(Abnormal_FeatureData2.shape)"
   ]
  },
  {
   "cell_type": "markdown",
   "metadata": {
    "id": "HM9CclqOSBVn"
   },
   "source": [
    "#### 정상/고장1/고장2 특징 별 ANOVA 수행하여 P value 계산"
   ]
  },
  {
   "cell_type": "code",
   "execution_count": 139,
   "metadata": {
    "colab": {
     "base_uri": "https://localhost:8080/",
     "height": 424
    },
    "executionInfo": {
     "elapsed": 509,
     "status": "ok",
     "timestamp": 1649426187031,
     "user": {
      "displayName": "공과대학/최영운",
      "userId": "17538933824946727174"
     },
     "user_tz": -540
    },
    "id": "D3XgAZ85SBVo",
    "outputId": "e4033a4e-3e89-45b5-bd5b-ddabb8776a5a"
   },
   "outputs": [],
   "source": [
    "NoOfFeature = FeatureData.shape[0] # 추출된 Feature 갯수\n",
    "\n",
    "P_value = np.zeros((NoOfFeature , 2))\n",
    "\n",
    "p_N  = np.zeros((NoOfFeature , 2))           \n",
    "p_A1 = np.zeros((NoOfFeature , 2))             \n",
    "p_A2 = np.zeros((NoOfFeature , 2))               \n",
    "\n",
    "for i in range(NoOfFeature):\n",
    "    n  = Normal_FeatureData .iloc[i, :].values\n",
    "    a1 = Abnormal_FeatureData1.iloc[i, :].values\n",
    "    a2 = Abnormal_FeatureData2.iloc[i, :].values\n",
    "\n",
    "    # Normal ANOVA\n",
    "    p_N [i,0] = i\n",
    "    p_N [i,1] = sp.f_oneway(n,  np.concatenate([a1, a2])).pvalue\n",
    "    # Abn1  ANOVA\n",
    "    p_A1 [i,0] = i\n",
    "    p_A1 [i] = sp.f_oneway(a1, np.concatenate([n , a2])).pvalue\n",
    "    # Abn2  ANOVA\n",
    "    p_A2 [i,0] = i\n",
    "    p_A2 [i] = sp.f_oneway(a2, np.concatenate([n , a1])).pvalue\n"
   ]
  },
  {
   "cell_type": "markdown",
   "metadata": {
    "id": "_I1BtQkfSBVo"
   },
   "source": [
    "#### P value 기준 정렬"
   ]
  },
  {
   "cell_type": "code",
   "execution_count": 140,
   "metadata": {},
   "outputs": [
    {
     "data": {
      "text/html": [
       "<div>\n",
       "<style scoped>\n",
       "    .dataframe tbody tr th:only-of-type {\n",
       "        vertical-align: middle;\n",
       "    }\n",
       "\n",
       "    .dataframe tbody tr th {\n",
       "        vertical-align: top;\n",
       "    }\n",
       "\n",
       "    .dataframe thead th {\n",
       "        text-align: right;\n",
       "    }\n",
       "</style>\n",
       "<table border=\"1\" class=\"dataframe\">\n",
       "  <thead>\n",
       "    <tr style=\"text-align: right;\">\n",
       "      <th></th>\n",
       "      <th>0</th>\n",
       "      <th>1</th>\n",
       "    </tr>\n",
       "  </thead>\n",
       "  <tbody>\n",
       "    <tr>\n",
       "      <th>4</th>\n",
       "      <td>4.0</td>\n",
       "      <td>2.356117e-103</td>\n",
       "    </tr>\n",
       "    <tr>\n",
       "      <th>14</th>\n",
       "      <td>14.0</td>\n",
       "      <td>8.010725e-95</td>\n",
       "    </tr>\n",
       "    <tr>\n",
       "      <th>3</th>\n",
       "      <td>3.0</td>\n",
       "      <td>2.545444e-88</td>\n",
       "    </tr>\n",
       "    <tr>\n",
       "      <th>92</th>\n",
       "      <td>92.0</td>\n",
       "      <td>2.103363e-86</td>\n",
       "    </tr>\n",
       "    <tr>\n",
       "      <th>13</th>\n",
       "      <td>13.0</td>\n",
       "      <td>1.221771e-83</td>\n",
       "    </tr>\n",
       "    <tr>\n",
       "      <th>...</th>\n",
       "      <td>...</td>\n",
       "      <td>...</td>\n",
       "    </tr>\n",
       "    <tr>\n",
       "      <th>72</th>\n",
       "      <td>72.0</td>\n",
       "      <td>9.158567e-01</td>\n",
       "    </tr>\n",
       "    <tr>\n",
       "      <th>245</th>\n",
       "      <td>245.0</td>\n",
       "      <td>9.430582e-01</td>\n",
       "    </tr>\n",
       "    <tr>\n",
       "      <th>263</th>\n",
       "      <td>263.0</td>\n",
       "      <td>9.815781e-01</td>\n",
       "    </tr>\n",
       "    <tr>\n",
       "      <th>212</th>\n",
       "      <td>212.0</td>\n",
       "      <td>9.840183e-01</td>\n",
       "    </tr>\n",
       "    <tr>\n",
       "      <th>175</th>\n",
       "      <td>175.0</td>\n",
       "      <td>9.865277e-01</td>\n",
       "    </tr>\n",
       "  </tbody>\n",
       "</table>\n",
       "<p>270 rows × 2 columns</p>\n",
       "</div>"
      ],
      "text/plain": [
       "         0              1\n",
       "4      4.0  2.356117e-103\n",
       "14    14.0   8.010725e-95\n",
       "3      3.0   2.545444e-88\n",
       "92    92.0   2.103363e-86\n",
       "13    13.0   1.221771e-83\n",
       "..     ...            ...\n",
       "72    72.0   9.158567e-01\n",
       "245  245.0   9.430582e-01\n",
       "263  263.0   9.815781e-01\n",
       "212  212.0   9.840183e-01\n",
       "175  175.0   9.865277e-01\n",
       "\n",
       "[270 rows x 2 columns]"
      ]
     },
     "execution_count": 140,
     "metadata": {},
     "output_type": "execute_result"
    }
   ],
   "source": [
    "#Normal Data의 상위 특징 p-value 정렬\n",
    "p_N=pd.DataFrame(p_N)\n",
    "Rank_N = p_N.sort_values([1],ascending=True)  # P-value 기준 오름차순 정렬\n",
    "\n",
    "Rank_N"
   ]
  },
  {
   "cell_type": "code",
   "execution_count": 141,
   "metadata": {},
   "outputs": [
    {
     "data": {
      "text/html": [
       "<div>\n",
       "<style scoped>\n",
       "    .dataframe tbody tr th:only-of-type {\n",
       "        vertical-align: middle;\n",
       "    }\n",
       "\n",
       "    .dataframe tbody tr th {\n",
       "        vertical-align: top;\n",
       "    }\n",
       "\n",
       "    .dataframe thead th {\n",
       "        text-align: right;\n",
       "    }\n",
       "</style>\n",
       "<table border=\"1\" class=\"dataframe\">\n",
       "  <thead>\n",
       "    <tr style=\"text-align: right;\">\n",
       "      <th></th>\n",
       "      <th>0</th>\n",
       "      <th>1</th>\n",
       "    </tr>\n",
       "  </thead>\n",
       "  <tbody>\n",
       "    <tr>\n",
       "      <th>2</th>\n",
       "      <td>1.525181e-17</td>\n",
       "      <td>1.525181e-17</td>\n",
       "    </tr>\n",
       "    <tr>\n",
       "      <th>92</th>\n",
       "      <td>8.667224e-16</td>\n",
       "      <td>8.667224e-16</td>\n",
       "    </tr>\n",
       "    <tr>\n",
       "      <th>84</th>\n",
       "      <td>5.715095e-15</td>\n",
       "      <td>5.715095e-15</td>\n",
       "    </tr>\n",
       "    <tr>\n",
       "      <th>64</th>\n",
       "      <td>8.367232e-15</td>\n",
       "      <td>8.367232e-15</td>\n",
       "    </tr>\n",
       "    <tr>\n",
       "      <th>104</th>\n",
       "      <td>9.358124e-15</td>\n",
       "      <td>9.358124e-15</td>\n",
       "    </tr>\n",
       "    <tr>\n",
       "      <th>...</th>\n",
       "      <td>...</td>\n",
       "      <td>...</td>\n",
       "    </tr>\n",
       "    <tr>\n",
       "      <th>245</th>\n",
       "      <td>9.715110e-01</td>\n",
       "      <td>9.715110e-01</td>\n",
       "    </tr>\n",
       "    <tr>\n",
       "      <th>22</th>\n",
       "      <td>9.831040e-01</td>\n",
       "      <td>9.831040e-01</td>\n",
       "    </tr>\n",
       "    <tr>\n",
       "      <th>263</th>\n",
       "      <td>9.907884e-01</td>\n",
       "      <td>9.907884e-01</td>\n",
       "    </tr>\n",
       "    <tr>\n",
       "      <th>212</th>\n",
       "      <td>9.920088e-01</td>\n",
       "      <td>9.920088e-01</td>\n",
       "    </tr>\n",
       "    <tr>\n",
       "      <th>175</th>\n",
       "      <td>9.932636e-01</td>\n",
       "      <td>9.932636e-01</td>\n",
       "    </tr>\n",
       "  </tbody>\n",
       "</table>\n",
       "<p>270 rows × 2 columns</p>\n",
       "</div>"
      ],
      "text/plain": [
       "                0             1\n",
       "2    1.525181e-17  1.525181e-17\n",
       "92   8.667224e-16  8.667224e-16\n",
       "84   5.715095e-15  5.715095e-15\n",
       "64   8.367232e-15  8.367232e-15\n",
       "104  9.358124e-15  9.358124e-15\n",
       "..            ...           ...\n",
       "245  9.715110e-01  9.715110e-01\n",
       "22   9.831040e-01  9.831040e-01\n",
       "263  9.907884e-01  9.907884e-01\n",
       "212  9.920088e-01  9.920088e-01\n",
       "175  9.932636e-01  9.932636e-01\n",
       "\n",
       "[270 rows x 2 columns]"
      ]
     },
     "execution_count": 141,
     "metadata": {},
     "output_type": "execute_result"
    }
   ],
   "source": [
    "#Abormal1 Data의 상위 특징 p-value 정렬\n",
    "p_A1=pd.DataFrame(p_A1)\n",
    "Rank_A1 = p_A1.sort_values([1],ascending=True)  # P-value 기준 오름차순 정렬\n",
    "\n",
    "Rank_A1"
   ]
  },
  {
   "cell_type": "code",
   "execution_count": 142,
   "metadata": {},
   "outputs": [
    {
     "data": {
      "text/html": [
       "<div>\n",
       "<style scoped>\n",
       "    .dataframe tbody tr th:only-of-type {\n",
       "        vertical-align: middle;\n",
       "    }\n",
       "\n",
       "    .dataframe tbody tr th {\n",
       "        vertical-align: top;\n",
       "    }\n",
       "\n",
       "    .dataframe thead th {\n",
       "        text-align: right;\n",
       "    }\n",
       "</style>\n",
       "<table border=\"1\" class=\"dataframe\">\n",
       "  <thead>\n",
       "    <tr style=\"text-align: right;\">\n",
       "      <th></th>\n",
       "      <th>0</th>\n",
       "      <th>1</th>\n",
       "    </tr>\n",
       "  </thead>\n",
       "  <tbody>\n",
       "    <tr>\n",
       "      <th>4</th>\n",
       "      <td>2.276606e-29</td>\n",
       "      <td>2.276606e-29</td>\n",
       "    </tr>\n",
       "    <tr>\n",
       "      <th>14</th>\n",
       "      <td>2.409193e-29</td>\n",
       "      <td>2.409193e-29</td>\n",
       "    </tr>\n",
       "    <tr>\n",
       "      <th>3</th>\n",
       "      <td>6.129733e-29</td>\n",
       "      <td>6.129733e-29</td>\n",
       "    </tr>\n",
       "    <tr>\n",
       "      <th>13</th>\n",
       "      <td>7.281590e-29</td>\n",
       "      <td>7.281590e-29</td>\n",
       "    </tr>\n",
       "    <tr>\n",
       "      <th>1</th>\n",
       "      <td>1.201720e-26</td>\n",
       "      <td>1.201720e-26</td>\n",
       "    </tr>\n",
       "    <tr>\n",
       "      <th>...</th>\n",
       "      <td>...</td>\n",
       "      <td>...</td>\n",
       "    </tr>\n",
       "    <tr>\n",
       "      <th>72</th>\n",
       "      <td>9.578699e-01</td>\n",
       "      <td>9.578699e-01</td>\n",
       "    </tr>\n",
       "    <tr>\n",
       "      <th>245</th>\n",
       "      <td>9.715110e-01</td>\n",
       "      <td>9.715110e-01</td>\n",
       "    </tr>\n",
       "    <tr>\n",
       "      <th>263</th>\n",
       "      <td>9.907884e-01</td>\n",
       "      <td>9.907884e-01</td>\n",
       "    </tr>\n",
       "    <tr>\n",
       "      <th>212</th>\n",
       "      <td>9.920088e-01</td>\n",
       "      <td>9.920088e-01</td>\n",
       "    </tr>\n",
       "    <tr>\n",
       "      <th>175</th>\n",
       "      <td>9.932636e-01</td>\n",
       "      <td>9.932636e-01</td>\n",
       "    </tr>\n",
       "  </tbody>\n",
       "</table>\n",
       "<p>270 rows × 2 columns</p>\n",
       "</div>"
      ],
      "text/plain": [
       "                0             1\n",
       "4    2.276606e-29  2.276606e-29\n",
       "14   2.409193e-29  2.409193e-29\n",
       "3    6.129733e-29  6.129733e-29\n",
       "13   7.281590e-29  7.281590e-29\n",
       "1    1.201720e-26  1.201720e-26\n",
       "..            ...           ...\n",
       "72   9.578699e-01  9.578699e-01\n",
       "245  9.715110e-01  9.715110e-01\n",
       "263  9.907884e-01  9.907884e-01\n",
       "212  9.920088e-01  9.920088e-01\n",
       "175  9.932636e-01  9.932636e-01\n",
       "\n",
       "[270 rows x 2 columns]"
      ]
     },
     "execution_count": 142,
     "metadata": {},
     "output_type": "execute_result"
    }
   ],
   "source": [
    "#Abormal2 Data의 상위 특징 p-value 정렬\n",
    "p_A2=pd.DataFrame(p_A2)\n",
    "Rank_A2 = p_A2.sort_values([1],ascending=True)  # P-value 기준 오름차순 정렬\n",
    "\n",
    "Rank_A2"
   ]
  },
  {
   "cell_type": "markdown",
   "metadata": {
    "id": "OOoaAPy-SBVo"
   },
   "source": [
    "#### P value 기반 구분성 상위 10개 특징 선택"
   ]
  },
  {
   "cell_type": "code",
   "execution_count": 143,
   "metadata": {
    "colab": {
     "base_uri": "https://localhost:8080/"
    },
    "executionInfo": {
     "elapsed": 2,
     "status": "ok",
     "timestamp": 1649426262572,
     "user": {
      "displayName": "공과대학/최영운",
      "userId": "17538933824946727174"
     },
     "user_tz": -540
    },
    "id": "0JK7WCr4SBVo",
    "outputId": "baa46c43-1b4b-4c3c-fd0b-1acf04708455",
    "scrolled": true
   },
   "outputs": [],
   "source": [
    "# StartRank 부터 Number 만큼의 Feature\n",
    "StartRank = 0                      \n",
    "Number    = 10\n",
    "\n",
    "Normal     = np.zeros((Number, NoOfData*3))\n",
    "Abnormal1  = np.zeros((Number, NoOfData*3))\n",
    "Abnormal2  = np.zeros((Number, NoOfData*3))\n",
    "\n",
    "for i in range(StartRank,Number):\n",
    "    \n",
    "    index1          = int(Rank_N.iloc[i,0])  #Normal의 상위 10개 특성 삽입\n",
    "    Normal  [i, :] = FeatureData.iloc  [index1, :].values\n",
    "    \n",
    "    index2          = int(Rank_A1.iloc[i,0])\n",
    "    Abnormal1[i, :] = FeatureData.iloc  [index2, :].values\n",
    "\n",
    "    index3          = int(Rank_A2.iloc[i,0])\n",
    "    Abnormal2[i, :] = FeatureData.iloc  [index3, :].values\n",
    "\n",
    "FeatureSelected=pd.DataFrame(np.concatenate([Normal,Abnormal1,Abnormal2],axis=0))\n"
   ]
  },
  {
   "cell_type": "markdown",
   "metadata": {
    "id": "NS6x_d2cSBVp"
   },
   "source": [
    "### 3단계 결과물 제출용 파일로 저장(수강생 번호 외 코드 수정 X)"
   ]
  },
  {
   "cell_type": "code",
   "execution_count": 144,
   "metadata": {
    "id": "slLaPJhPSBVp"
   },
   "outputs": [],
   "source": [
    "StudentNo = 332   # 수강생 번호 입력\n",
    "\n",
    "Path1 = './Result/ST%d_DC3.csv'%StudentNo\n",
    "\n",
    "FeatureSelected.to_csv(Path1, header=None, index=None)"
   ]
  },
  {
   "cell_type": "markdown",
   "metadata": {
    "id": "FwYbZEMLSBVp"
   },
   "source": [
    ".\n",
    "\n",
    ".\n",
    "\n",
    "."
   ]
  },
  {
   "cell_type": "markdown",
   "metadata": {
    "id": "mgSWa1gGSBVp"
   },
   "source": [
    "# [4단계] 선택된 특징 각각 차원축소(PCA) 및 2D Plot 시각화"
   ]
  },
  {
   "cell_type": "markdown",
   "metadata": {
    "id": "M0SFkuxFSBVp"
   },
   "source": [
    "## 필수!\n",
    "* PCA 적용 전 특징 데이터 표준화 (StandardScaler 활용)\n",
    "* Plot 설정 아래와 같이 수행\n",
    "               figsize = (10, 10)   \n",
    "               점 색깔: 정상=파랑('b'), 고장1=빨강('r'), 고장2=자홍('m')   \n",
    "               Label: 정상='Normal', 고장1='Abnormal1', 고장2='Abnormal2'\n",
    "               공통 옵션: linestyle='', marker='o'\n",
    "               가로/세로 축 이름 각각 PC1/PC2\n",
    "\n",
    "* 출력된 그래프를 'ST(수강생번호)_DC4.png'이름으로 Result 폴더 내 저장"
   ]
  },
  {
   "cell_type": "code",
   "execution_count": 145,
   "metadata": {
    "colab": {
     "base_uri": "https://localhost:8080/"
    },
    "executionInfo": {
     "elapsed": 510,
     "status": "ok",
     "timestamp": 1649427460422,
     "user": {
      "displayName": "공과대학/최영운",
      "userId": "17538933824946727174"
     },
     "user_tz": -540
    },
    "id": "Nk680ALZSBVq",
    "outputId": "ce07f348-aed5-4ab3-b2bd-8275b9a83332"
   },
   "outputs": [],
   "source": [
    "FeatureSelected = pd.read_csv('./Result/ST332_DC3.csv', sep=',', header=None)"
   ]
  },
  {
   "cell_type": "code",
   "execution_count": 146,
   "metadata": {
    "colab": {
     "base_uri": "https://localhost:8080/"
    },
    "executionInfo": {
     "elapsed": 413,
     "status": "ok",
     "timestamp": 1649427973035,
     "user": {
      "displayName": "공과대학/최영운",
      "userId": "17538933824946727174"
     },
     "user_tz": -540
    },
    "id": "akRAvDQ7SBVq",
    "outputId": "28acc612-9df3-4f97-f6f5-655ad9ab96be"
   },
   "outputs": [
    {
     "data": {
      "text/plain": [
       "(360, 30)"
      ]
     },
     "execution_count": 146,
     "metadata": {},
     "output_type": "execute_result"
    }
   ],
   "source": [
    "# 선택된 특징데이터에 대한 표준화\n",
    "FeatureSelected = FeatureSelected.T  \n",
    "FeatureSelected_normed = StandardScaler().fit_transform(FeatureSelected)\n",
    "FeatureSelected_normed.shape"
   ]
  },
  {
   "cell_type": "markdown",
   "metadata": {
    "id": "ewDrTmwTSBVq"
   },
   "source": [
    "#### 선정된 특징 PCA 통한 차원축소"
   ]
  },
  {
   "cell_type": "code",
   "execution_count": 147,
   "metadata": {
    "colab": {
     "base_uri": "https://localhost:8080/",
     "height": 112
    },
    "executionInfo": {
     "elapsed": 540,
     "status": "ok",
     "timestamp": 1649427975840,
     "user": {
      "displayName": "공과대학/최영운",
      "userId": "17538933824946727174"
     },
     "user_tz": -540
    },
    "id": "P1BIeTgbSBVq",
    "outputId": "6389a063-1c24-4b96-b8ca-97f4e6d3ee9d"
   },
   "outputs": [],
   "source": [
    "# 10개 PC(Principal Component) 추출\n",
    "pca = PCA(n_components = 2)\n",
    "PC  = pca.fit_transform(FeatureSelected_normed)"
   ]
  },
  {
   "cell_type": "code",
   "execution_count": 148,
   "metadata": {},
   "outputs": [
    {
     "data": {
      "text/plain": [
       "(360, 2)"
      ]
     },
     "execution_count": 148,
     "metadata": {},
     "output_type": "execute_result"
    }
   ],
   "source": [
    "PC.shape\n"
   ]
  },
  {
   "cell_type": "code",
   "execution_count": 149,
   "metadata": {
    "colab": {
     "base_uri": "https://localhost:8080/",
     "height": 606
    },
    "executionInfo": {
     "elapsed": 1075,
     "status": "ok",
     "timestamp": 1649428902529,
     "user": {
      "displayName": "공과대학/최영운",
      "userId": "17538933824946727174"
     },
     "user_tz": -540
    },
    "id": "0xnEPMaJSBVr",
    "outputId": "32ce1b23-2d20-40eb-8ad0-228d8f9bc9ca"
   },
   "outputs": [
    {
     "data": {
      "image/png": "[encoded data removed]",
      "text/plain": [
       "<Figure size 1000x1000 with 1 Axes>"
      ]
     },
     "metadata": {},
     "output_type": "display_data"
    }
   ],
   "source": [
    "# PC1, PC2 2가지 주성분의 산점도 그리기\n",
    "NoOfData = int(PC.shape[0]/3)\n",
    "\n",
    "plt.figure(1, (10,10))\n",
    "plt.plot(PC[:NoOfData,0], PC[:NoOfData,1], color='b',linestyle='', marker='o', label='Normal')\n",
    "plt.plot(PC[NoOfData:NoOfData*2,0], PC[NoOfData:NoOfData*2,1], color='r', linestyle='', marker='o', label='Abnormal1')\n",
    "plt.plot(PC[NoOfData*2:,0], PC[NoOfData*2:,1], color='m', linestyle='', marker='o', label='Abnormal2')\n",
    "plt.legend()\n",
    "plt.xlabel('PC1')\n",
    "plt.ylabel('PC2')\n",
    "plt.grid(alpha=0.5)\n",
    "plt.show()\n",
    "\n",
    "\n"
   ]
  },
  {
   "cell_type": "markdown",
   "metadata": {
    "id": "G3w1VC6uSBVr"
   },
   "source": [
    ".\n",
    "\n",
    ".\n",
    "\n",
    "."
   ]
  },
  {
   "cell_type": "markdown",
   "metadata": {
    "id": "dKykRphzSBVr"
   },
   "source": [
    "# ● 결과가 저장된 폴더(Result)와 작성 완료된 본 코드 파일을 하나의 zip파일로 제출\n",
    "> ## 압축파일 이름 ST(수강생번호)_DC (예시: 'ST00_DC', 'ST0_DC')\n",
    "압축파일 더블클릭시 Result 폴더, DataChallenge_ST-(수강생번호) 나타나도록 파일 구성"
   ]
  }
 ],
 "metadata": {
  "colab": {
   "collapsed_sections": [],
   "name": "DataChallenge_ST-0(Answer).ipynb",
   "provenance": []
  },
  "kernelspec": {
   "display_name": "Python [conda env:base] *",
   "language": "python",
   "name": "conda-base-py"
  },
  "language_info": {
   "codemirror_mode": {
    "name": "ipython",
    "version": 3
   },
   "file_extension": ".py",
   "mimetype": "text/x-python",
   "name": "python",
   "nbconvert_exporter": "python",
   "pygments_lexer": "ipython3",
   "version": "3.13.5"
  }
 },
 "nbformat": 4,
 "nbformat_minor": 4
}
